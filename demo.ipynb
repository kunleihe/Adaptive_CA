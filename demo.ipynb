{
 "cells": [
  {
   "cell_type": "code",
   "execution_count": 1,
   "id": "8aedda24-3b58-430c-a7a7-8c93f86eb515",
   "metadata": {},
   "outputs": [],
   "source": [
    "%load_ext autoreload\n",
    "%autoreload 2"
   ]
  },
  {
   "cell_type": "code",
   "execution_count": 73,
   "id": "2ef05612-5579-4577-839d-d1e7673cc946",
   "metadata": {},
   "outputs": [],
   "source": [
    "from assistant import GPTAssistant\n",
    "from utils import show_json, list_all_assistant, get_api_key\n",
    "from tool_functions import display_quiz_function_json\n",
    "from openai import OpenAI\n",
    "import pandas as pd\n",
    "import json"
   ]
  },
  {
   "cell_type": "markdown",
   "id": "e0326c77-da2f-4d89-b72f-ee0fb7b5c4d7",
   "metadata": {},
   "source": [
    "## Init client and choosing our previously created assistant"
   ]
  },
  {
   "cell_type": "code",
   "execution_count": 74,
   "id": "ce5e33d0-bd91-4acf-976b-f6502d83e36f",
   "metadata": {},
   "outputs": [
    {
     "name": "stdout",
     "output_type": "stream",
     "text": [
      "ipykernel.zmqshell\n"
     ]
    }
   ],
   "source": [
    "# Create client and retrieve all current assistant\n",
    "client = OpenAI(\n",
    "    api_key=get_api_key()\n",
    ")   # Maybe client should be outside assistant class but this will do for now"
   ]
  },
  {
   "cell_type": "code",
   "execution_count": 75,
   "id": "41897b2f-b9a2-41c9-adf5-fb1e7bc6da2d",
   "metadata": {},
   "outputs": [
    {
     "name": "stdout",
     "output_type": "stream",
     "text": [
      "id: asst_ZNz4lbi6z8bpKkE6APKdrpQ8\n",
      "name: None\n",
      "description: Assistant on helping children learn science concepts\n",
      "instructions: You will be presented with a couple of dialogue between two cartoon characters.You need to identify a few science concepts presented in the dialogue to assist the children in learning the concepts.\n",
      "model: gpt-3.5-turbo-0125\n",
      "tools: [{'function': {'name': 'display_quiz', 'description': \"Displays a quiz to the student, and returns the student's response. A single quiz can have multiple questions.\", 'parameters': {'type': 'object', 'properties': {'title': {'type': 'string'}, 'questions': {'type': 'array', 'description': 'An array of questions, each with a title and potentially options (if multiple choice).', 'items': {'type': 'object', 'properties': {'question_text': {'type': 'string'}, 'question_type': {'type': 'string', 'enum': ['MULTIPLE_CHOICE', 'FREE_RESPONSE']}, 'difficulty': {'type': 'string', 'description': 'The difficulty level of each question. Easy difficulty level question only requires yes and no answer. Medium difficulty level question asks for the definition of a certain concepts. Hard difficulty level question asks further interpretation of the concepts (e.g. Why/How did something occurs)', 'enum': ['EASY', 'MEDIUM', 'HARD']}, 'choices': {'type': 'array', 'items': {'type': 'string'}}}, 'required': ['question_text', 'question_type', 'difficulty']}}}, 'required': ['title', 'questions']}}, 'type': 'function'}]\n",
      "temperature: 1.0\n",
      "\n",
      "id: asst_JeHoRYzHqSyesyCRB0YqvVaj\n",
      "name: General Assistant\n",
      "description: None\n",
      "instructions: You will answer questions about some general knowledges. Please make the answer simple so most people can understand\n",
      "model: gpt-3.5-turbo-0125\n",
      "tools: [{'function': {'name': 'display_quiz', 'description': \"Displays a quiz to the student, and returns the student's response. A single quiz can have multiple questions.\", 'parameters': {'type': 'object', 'properties': {'title': {'type': 'string'}, 'questions': {'type': 'array', 'description': 'An array of questions, each with a title and potentially options (if multiple choice).', 'items': {'type': 'object', 'properties': {'question_text': {'type': 'string'}, 'question_type': {'type': 'string', 'enum': ['MULTIPLE_CHOICE', 'FREE_RESPONSE']}, 'choices': {'type': 'array', 'items': {'type': 'string'}}}, 'required': ['question_text', 'question_type']}}}, 'required': ['title', 'questions']}}, 'type': 'function'}]\n",
      "temperature: 1.0\n",
      "\n"
     ]
    }
   ],
   "source": [
    "list_all_assistant(client)"
   ]
  },
  {
   "cell_type": "code",
   "execution_count": 66,
   "id": "703eaadb-2703-4a67-ac81-e032733e42be",
   "metadata": {},
   "outputs": [],
   "source": [
    "# update the function that assistant will use\n",
    "# client.beta.assistants.update(assistant_id=\"asst_ZNz4lbi6z8bpKkE6APKdrpQ8\", tools=[{\"type\": \"function\", \"function\": display_quiz_function_json}])\n",
    "# client.beta.assistants.update(assistant_id=\"asst_ZNz4lbi6z8bpKkE6APKdrpQ8\", instructions=\"You will be presented with a couple of dialogue between two cartoon characters.\"\n",
    "#                                                                                           \"You need to identify a few science concepts presented in the dialogue to assist the children in learning \"\n",
    "#                                                                                           \"the concepts.\")"
   ]
  },
  {
   "cell_type": "code",
   "execution_count": 68,
   "id": "37eb68da-d125-4457-8e37-03fee1f337bd",
   "metadata": {},
   "outputs": [],
   "source": [
    "assistant = GPTAssistant(client, assistant_id=\"asst_ZNz4lbi6z8bpKkE6APKdrpQ8\")"
   ]
  },
  {
   "cell_type": "code",
   "execution_count": 59,
   "id": "c804e77a-5ea5-4ed2-b872-9ea97a928cdc",
   "metadata": {},
   "outputs": [
    {
     "name": "stdout",
     "output_type": "stream",
     "text": [
      "asst_ZNz4lbi6z8bpKkE6APKdrpQ8\n",
      "thread_GV91GiJ1fSKMxwRfuxugJDL4\n",
      "[]\n"
     ]
    }
   ],
   "source": [
    "print(assistant.assistant.id)\n",
    "print(assistant.thread.id)\n",
    "print(assistant.get_all_messages())"
   ]
  },
  {
   "cell_type": "markdown",
   "id": "a660a6f6-8bb1-4b9b-b7a2-d374ad598969",
   "metadata": {},
   "source": [
    "## Get dialogue data from xlsx file"
   ]
  },
  {
   "cell_type": "code",
   "execution_count": 60,
   "id": "3d2fdd4f-43a6-47ae-b58b-24aee7c75f00",
   "metadata": {},
   "outputs": [],
   "source": [
    "dialogue_file_path = \"transcripts/town_picnic_base.xlsx\"\n",
    "df = pd.read_excel(dialogue_file_path)"
   ]
  },
  {
   "cell_type": "code",
   "execution_count": 61,
   "id": "aa5e2ef7-bc74-4f24-986b-2e41eab31b09",
   "metadata": {},
   "outputs": [],
   "source": [
    "transcripts = df[df[\"text\"].notnull()][\"text\"].tolist()\n",
    "base_question = df[df[\"text\"].notnull()][\"base_q\"].tolist()"
   ]
  },
  {
   "cell_type": "code",
   "execution_count": 62,
   "id": "749dc156-f1f4-4e84-ad0b-a2f88b5859d3",
   "metadata": {},
   "outputs": [
    {
     "name": "stdout",
     "output_type": "stream",
     "text": [
      "Elinor: The Town Picnic! [Elinor hops into view from the center. She giggles as she notices a bee and runs after it to a flower] Hmm? Oooh...\n",
      "Ranger: [off-screen] C'mon, Elinor!\n",
      "Elinor: Coming, Mom! [Elinor runs to the left, where Ranger follows behind her. Elinor runs to the entrance of the picnic grounds.] I just love the Town Picnic! What should we do first, Mom?\n",
      "Ranger: I don't know, Elinor. Let's see... [gasp] Oh, we can do wood-carving with Mrs. Beaver. [Cut to Mrs. Beaver rapidly biting s...\n",
      "Base question: Did you see that!?- the bee just drank some juice, called nectar from this flower! What do you think the bee is going to make with the juice from this flower?\n"
     ]
    }
   ],
   "source": [
    "print(transcripts[0][0:500] + \"...\")\n",
    "print(\"Base question:\", base_question[0])"
   ]
  },
  {
   "cell_type": "markdown",
   "id": "4e712d98-434c-4da0-b710-461de59dcf60",
   "metadata": {},
   "source": [
    "## Main GPT dialogue loop"
   ]
  },
  {
   "cell_type": "code",
   "execution_count": 69,
   "id": "85d26eb7-f8c3-40aa-b4d4-90e2c3b1730e",
   "metadata": {},
   "outputs": [],
   "source": [
    "# Can set it to run forever but currently restricting to a limited amount of step for testing\n",
    "max_step = 1\n",
    "# num_questions = 3\n",
    "step = 0\n",
    "cur_dialogue_num = 0"
   ]
  },
  {
   "cell_type": "code",
   "execution_count": 70,
   "id": "282e9e34-359e-446e-8b0a-a7c79d1c888c",
   "metadata": {},
   "outputs": [],
   "source": [
    "# assistant.wait_on_run()\n",
    "# tool_calls = assistant.last_run.required_action.submit_tool_outputs.tool_calls\n",
    "# for tool_call in tool_calls:\n",
    "#     print(json.loads(tool_call.function.arguments))"
   ]
  },
  {
   "cell_type": "code",
   "execution_count": 71,
   "id": "0e00cfa5-0155-48ae-87be-479be1efc473",
   "metadata": {},
   "outputs": [],
   "source": [
    "# assistant.resolve_run_required_action()\n",
    "# assistant.get_all_messages()"
   ]
  },
  {
   "cell_type": "markdown",
   "id": "566cf833-7fef-425f-9f91-a7bcd3e59be8",
   "metadata": {},
   "source": [
    "First, the assistant is presented with the dialogue then it is asked to summarize it. Then we ask it to create a quiz of varying difficulties about the science concept presented in the dialogue"
   ]
  },
  {
   "cell_type": "code",
   "execution_count": 72,
   "id": "2f3c7001-c940-45f3-87f7-990b6dc5e535",
   "metadata": {},
   "outputs": [
    {
     "name": "stdout",
     "output_type": "stream",
     "text": [
      "assistant: The dialogue is about Elinor and her family attending the Town Picnic. Elinor is excited about the activities at the picnic, such as wood-carving, hayrides, and watching Mr. Cat at the dunking booth. Later, Elinor joins her friends Olive and Ari in line for Mrs. Llama's special ketchup, where they express impatience due to the long wait. Elinor gets distracted by a bee and follows it to a flower, where she observes the bee sucking up something from the flower.\n",
      "\n",
      "Concepts identified:\n",
      "1. Pollination: Elinor follows a bee to a flower and observes the bee sucking up something from it, indicating a learning opportunity about pollination.\n",
      "2. Waiting in line: Olive, Ari, and Elinor experience a long wait in line for food, showcasing the concept of patience and waiting in a queue.\n",
      "3. Food preferences: Ari waits in line for Mrs. Llama's special ketchup, highlighting the concept of different food preferences and the anticipation of trying something new.\n",
      "display_quiz\n",
      "{'title': 'Science Concepts Quiz', 'questions': [{'question_text': 'Easy: What did Elinor follow to a flower in the dialogue?', 'question_type': 'MULTIPLE_CHOICE', 'difficulty': 'EASY', 'choices': ['A butterfly', 'A bee', 'A bird', 'A squirrel']}, {'question_text': 'Medium: What concept is showcased when Olive, Ari, and Elinor experience a long wait in line for food?', 'question_type': 'FREE_RESPONSE', 'difficulty': 'MEDIUM'}, {'question_text': 'Hard: How does the interaction between the bee and flower in the dialogue relate to the process of pollination?', 'question_type': 'FREE_RESPONSE', 'difficulty': 'HARD'}]}\n",
      "Quiz: Science Concepts Quiz\n",
      "\n",
      "Questions: Easy: What did Elinor follow to a flower in the dialogue?\n",
      "a) A butterfly\n",
      "b) A bee\n",
      "c) A bird\n",
      "d) A squirrel\n"
     ]
    },
    {
     "name": "stdin",
     "output_type": "stream",
     "text": [
      "Answer:  a\n"
     ]
    },
    {
     "name": "stdout",
     "output_type": "stream",
     "text": [
      "\n",
      "Questions: Medium: What concept is showcased when Olive, Ari, and Elinor experience a long wait in line for food?\n"
     ]
    },
    {
     "name": "stdin",
     "output_type": "stream",
     "text": [
      "Answer:  Idk\n"
     ]
    },
    {
     "name": "stdout",
     "output_type": "stream",
     "text": [
      "\n",
      "Questions: Hard: How does the interaction between the bee and flower in the dialogue relate to the process of pollination?\n"
     ]
    },
    {
     "name": "stdin",
     "output_type": "stream",
     "text": [
      "Answer:  Bee delivers honey to flowers\n"
     ]
    },
    {
     "name": "stdout",
     "output_type": "stream",
     "text": [
      "\n",
      "['a', 'Idk', 'Bee delivers honey to flowers']\n",
      "assistant: 1. The child got the easy question wrong. The correct answer to the question \"What did Elinor follow to a flower in the dialogue?\" is \"A bee.\" Bees are important pollinators that transfer pollen between flowers.\n",
      "2. The child did not provide an answer for the medium question. The concept showcased when Olive, Ari, and Elinor experience a long wait in line for food is patience and waiting in queue.\n",
      "3. The child misunderstood the hard question. The interaction between the bee and flower in the dialogue relates to the process of pollination where bees visit flowers to collect nectar and pollen, aiding in the reproduction of plants. The bee transferring pollen from one flower to another is a crucial step in pollination.\n",
      "==============================================================================\n"
     ]
    }
   ],
   "source": [
    "while step < max_step and cur_dialogue_num < len(transcripts):\n",
    "    # Two steps: First, summarize the dialogue (for easier testing, can be omitted). Then ask the question about summarized dialogue\n",
    "    assistant.submit_message(f\"Summarize this dialogue: {transcripts[cur_dialogue_num]}.\")\n",
    "    print(assistant.get_last_response())\n",
    "    assistant.submit_message(f\"\"\"\n",
    "    Create a quiz with 3 questions to ask the child about the science concept presented in the dialogue. There should be one easy, one medium, and one hard question.\n",
    "    Then, based on their answer, identify what did the child get wrong and gave them feedback.\n",
    "    \"\"\")\n",
    "    assistant.wait_on_run()\n",
    "    if assistant.run_requires_action():\n",
    "        assistant.resolve_run_required_action()\n",
    "    print(assistant.get_last_response())\n",
    "    \n",
    "    step += 1\n",
    "    cur_dialogue_num += 1\n",
    "    print(\"==============================================================================\")"
   ]
  },
  {
   "cell_type": "code",
   "execution_count": 53,
   "id": "4842ad20-8637-4954-91f2-39aeb10f0775",
   "metadata": {},
   "outputs": [
    {
     "name": "stdout",
     "output_type": "stream",
     "text": [
      "user: Summarize this dialogue: Elinor: The Town Picnic! [Elinor hops into view from the center. She giggles as she notices a bee and runs after it to a flower] Hmm? Oooh...\n",
      "Ranger: [off-screen] C'mon, Elinor!\n",
      "Elinor: Coming, Mom! [Elinor runs to the left, where Ranger follows behind her. Elinor runs to the entrance of the picnic grounds.] I just love the Town Picnic! What should we do first, Mom?\n",
      "Ranger: I don't know, Elinor. Let's see... [gasp] Oh, we can do wood-carving with Mrs. Beaver. [Cut to Mrs. Beaver rapidly biting some wood into an intricate carving while saw sounds play. Cut back to Elinor.]\n",
      "Elinor: Awesome!\n",
      "Ranger: Or... Mr. Horse is giving everyone hayrides. [Cut to Mr. Horse struggling to pull a wagon with the Hippo family on it.]\n",
      "Elinor: Oh yeah!\n",
      "Ranger: Or... We could watch Mr. Cat at the dunking booth! [Cut to Mr. Cat sitting atop a dunking booth, who is shortly dunked.]\n",
      "Elinor: [gasp] Woo-hoo!\n",
      "Olive: [off-screen] Elinor!\n",
      "Elinor: Huh? [Cut to a line of people holding sandwiches, with Ari and Olive at the back]\n",
      "Olive: [giggles] Over here! [cut back to Elinor and Ranger]\n",
      "Elinor: Look! It's Olive and Ari!\n",
      "Ranger: Go ahead, honey. I have to talk to Deputy Mouse. [Elinor runs off as Ranger says this, and Deputy Mouse walks in from the right. Cut to Ari and Olive]\n",
      "Elinor: Hi, Ari! Hi, Olive! Whatcha doing?\n",
      "Olive: Ari is waiting in line for ketchup.\n",
      "Elinor: Ketchup?\n",
      "Ari: Not just any ketchup... I'm waiting in line for Mrs. Llama's super-special, world-famous, awesome ketchup!\n",
      "Olive: It's his favorite.\n",
      "Ari: Uh... it's everyone's favorite! That's why you have to get in line early. I can't wait to put it on my sandwich!\n",
      "Elinor: Oooh, sounds yummy. I want to try it! Can I join you?\n",
      "Olive: Of course! [Elinor hops behind Olive and waits, shortly humming to herself and leaning to the side to check the line.]\n",
      "Elinor: Ummmmm... We're not moving.\n",
      "Olive: [exasperatedly] I know!!\n",
      "Ari: We've been here forever! [cut to a view of a snail on a log] Even that snail is moving faster than we are! [short pause. Camera pans over Ari, then to Olive, then to Elinor.]\n",
      "Elinor: [sighs] [A bee flies in from the left] [gasp] Ooh... [the bee lands on a flower before leaving it quickly after] Ooooh. [cut to Ari and Olive. Ari's stomach starts growling]\n",
      "Ari: Oh, I hope the line moves soon! I'm getting hungry! I heard that Mrs. Llama has a new recipe this year. It's supposed to be even better than last year's.\n",
      "Olive: Well, I hope it's worth all this waiting. Right, Elinor? [Olive looks back after getting no response. Camera pans slightly to reveal that Elinor is not there.] Elinor? [Camera zooms out slightly, Elinor is still not in the shot] Elinor?? [cut to the bee flying around a different area of the picnic area, while Elinor follows it. Ranger and Deputy Mouse are sitting on a bench in the background.]\n",
      "Ranger: [Ranger waves] Hey Elinor. [Elinor stops for a second]\n",
      "Elinor: [gasp] Hi Mom! I'm following a beeeee! [Elinor runs off to see the bee land on a flower] Hmm? [the bee sucks up something from the flower before flying off. Elinor examines the flower closely, noticing something dripping from it.] .\n",
      "assistant: The dialogue is about Elinor and her family attending the Town Picnic. Elinor is excited about the activities at the picnic, such as wood-carving, hayrides, and watching Mr. Cat at the dunking booth. Later, Elinor joins Olive and Ari in line for Mrs. Llama's special ketchup, but they get impatient waiting in line. Elinor gets distracted by a bee and follows it around, exploring the picnic area.\n",
      "user: \n",
      "Create a quiz with 3 questions to ask the child about the science concept presented in the dialogue.\n",
      "Then, give the child feedback based on their answer.\n",
      "\n",
      "assistant: 1. **What is the role of a bee in pollination?**\n",
      "- *Feedback:* Bees play a crucial role in pollination by transferring pollen from one flower to another, which helps in the reproduction of plants.\n",
      "\n",
      "2. **Why do plants produce nectar?**\n",
      "- *Feedback:* Plants produce nectar to attract pollinators like bees, butterflies, and birds, which aid in the transfer of pollen between flowers.\n",
      "\n",
      "3. **How does waiting in line relate to patience and perseverance?**\n",
      "- *Feedback:* Waiting in line can teach us the valuable skills of patience and perseverance as we practice self-control and determination while waiting for our turn. It teaches us to be patient and not give up easily even when faced with delays.\n"
     ]
    }
   ],
   "source": [
    "# for msg in assistant.get_all_messages():\n",
    "#     print(msg)"
   ]
  },
  {
   "cell_type": "code",
   "execution_count": null,
   "id": "0fcc5b00-6d5d-4a9c-ab6e-0c4bdda8e9eb",
   "metadata": {},
   "outputs": [],
   "source": []
  }
 ],
 "metadata": {
  "kernelspec": {
   "display_name": "Python 3 (ipykernel)",
   "language": "python",
   "name": "python3"
  },
  "language_info": {
   "codemirror_mode": {
    "name": "ipython",
    "version": 3
   },
   "file_extension": ".py",
   "mimetype": "text/x-python",
   "name": "python",
   "nbconvert_exporter": "python",
   "pygments_lexer": "ipython3",
   "version": "3.11.9"
  }
 },
 "nbformat": 4,
 "nbformat_minor": 5
}
