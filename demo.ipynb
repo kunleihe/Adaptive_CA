{
  "cells": [
    {
      "cell_type": "code",
      "execution_count": 1,
      "id": "8aedda24-3b58-430c-a7a7-8c93f86eb515",
      "metadata": {
        "id": "8aedda24-3b58-430c-a7a7-8c93f86eb515"
      },
      "outputs": [],
      "source": [
        "%load_ext autoreload\n",
        "%autoreload 2"
      ]
    },
    {
      "cell_type": "markdown",
      "source": [
        "Clone the repo and install stuffs so it works on Google Collab. To run it Google Collab, uncomment everything in the cell below. To run it in your local machine, comment it"
      ],
      "metadata": {
        "id": "SzXfYJev_YOV"
      },
      "id": "SzXfYJev_YOV"
    },
    {
      "cell_type": "code",
      "source": [
        "# !git clone https://github.com/longxvu/Adaptive_CA\n",
        "# from google.colab import files\n",
        "# import os\n",
        "# import sys\n",
        "\n",
        "# # To find local version of the library\n",
        "# sys.path.append(os.path.join(\".\", 'Adaptive_CA'))\n",
        "# %cd Adaptive_CA\n",
        "\n",
        "# # Install necessary library\n",
        "# !pip install openai"
      ],
      "metadata": {
        "id": "eB1EyAzX_mB1"
      },
      "id": "eB1EyAzX_mB1",
      "execution_count": 25,
      "outputs": []
    },
    {
      "cell_type": "code",
      "execution_count": 9,
      "id": "2ef05612-5579-4577-839d-d1e7673cc946",
      "metadata": {
        "id": "2ef05612-5579-4577-839d-d1e7673cc946"
      },
      "outputs": [],
      "source": [
        "from assistant import GPTAssistant\n",
        "from utils import show_json, list_all_assistant, get_api_key\n",
        "from tool_functions import display_quiz_function_json\n",
        "from openai import OpenAI\n",
        "import pandas as pd\n",
        "import json"
      ]
    },
    {
      "cell_type": "markdown",
      "id": "e0326c77-da2f-4d89-b72f-ee0fb7b5c4d7",
      "metadata": {
        "id": "e0326c77-da2f-4d89-b72f-ee0fb7b5c4d7"
      },
      "source": [
        "## Init client and choosing our previously created assistant"
      ]
    },
    {
      "cell_type": "code",
      "execution_count": 11,
      "id": "ce5e33d0-bd91-4acf-976b-f6502d83e36f",
      "metadata": {
        "colab": {
          "base_uri": "https://localhost:8080/"
        },
        "id": "ce5e33d0-bd91-4acf-976b-f6502d83e36f",
        "outputId": "3621300e-d80e-4dfe-9070-863cef97078a"
      },
      "outputs": [
        {
          "output_type": "stream",
          "name": "stdout",
          "text": [
            "google.colab._shell\n"
          ]
        }
      ],
      "source": [
        "# Create client and retrieve all current assistant\n",
        "client = OpenAI(\n",
        "    api_key=get_api_key()\n",
        ")   # Maybe client should be outside assistant class but this will do for now"
      ]
    },
    {
      "cell_type": "code",
      "execution_count": 12,
      "id": "41897b2f-b9a2-41c9-adf5-fb1e7bc6da2d",
      "metadata": {
        "colab": {
          "base_uri": "https://localhost:8080/"
        },
        "id": "41897b2f-b9a2-41c9-adf5-fb1e7bc6da2d",
        "outputId": "a3c90e32-020d-4fb5-b14b-b2fdda684c60"
      },
      "outputs": [
        {
          "output_type": "stream",
          "name": "stdout",
          "text": [
            "id: asst_ZNz4lbi6z8bpKkE6APKdrpQ8\n",
            "name: None\n",
            "description: Assistant on helping children learn science concepts\n",
            "instructions: You will be presented with a couple of dialogue between two cartoon characters.You need to identify a few science concepts presented in the dialogue to assist the children in learning the concepts.\n",
            "model: gpt-3.5-turbo-0125\n",
            "tools: [{'function': {'name': 'display_quiz', 'description': \"Displays a quiz to the student, and returns the student's response. A single quiz can have multiple questions.\", 'parameters': {'type': 'object', 'properties': {'title': {'type': 'string'}, 'questions': {'type': 'array', 'description': 'An array of questions, each with a title and potentially options (if multiple choice).', 'items': {'type': 'object', 'properties': {'question_text': {'type': 'string'}, 'question_type': {'type': 'string', 'enum': ['MULTIPLE_CHOICE', 'FREE_RESPONSE']}, 'difficulty': {'type': 'string', 'description': 'The difficulty level of each question. Easy difficulty level question only requires yes and no answer. Medium difficulty level question asks for the definition of a certain concepts. Hard difficulty level question asks further interpretation of the concepts (e.g. Why/How did something occurs)', 'enum': ['EASY', 'MEDIUM', 'HARD']}, 'choices': {'type': 'array', 'items': {'type': 'string'}}}, 'required': ['question_text', 'question_type', 'difficulty']}}}, 'required': ['title', 'questions']}}, 'type': 'function'}]\n",
            "temperature: 1.0\n",
            "\n",
            "id: asst_JeHoRYzHqSyesyCRB0YqvVaj\n",
            "name: General Assistant\n",
            "description: None\n",
            "instructions: You will answer questions about some general knowledges. Please make the answer simple so most people can understand\n",
            "model: gpt-3.5-turbo-0125\n",
            "tools: [{'function': {'name': 'display_quiz', 'description': \"Displays a quiz to the student, and returns the student's response. A single quiz can have multiple questions.\", 'parameters': {'type': 'object', 'properties': {'title': {'type': 'string'}, 'questions': {'type': 'array', 'description': 'An array of questions, each with a title and potentially options (if multiple choice).', 'items': {'type': 'object', 'properties': {'question_text': {'type': 'string'}, 'question_type': {'type': 'string', 'enum': ['MULTIPLE_CHOICE', 'FREE_RESPONSE']}, 'choices': {'type': 'array', 'items': {'type': 'string'}}}, 'required': ['question_text', 'question_type']}}}, 'required': ['title', 'questions']}}, 'type': 'function'}]\n",
            "temperature: 1.0\n",
            "\n"
          ]
        }
      ],
      "source": [
        "list_all_assistant(client)"
      ]
    },
    {
      "cell_type": "code",
      "execution_count": null,
      "id": "703eaadb-2703-4a67-ac81-e032733e42be",
      "metadata": {
        "id": "703eaadb-2703-4a67-ac81-e032733e42be"
      },
      "outputs": [],
      "source": [
        "# update the function that assistant will use\n",
        "# client.beta.assistants.update(assistant_id=\"asst_ZNz4lbi6z8bpKkE6APKdrpQ8\", tools=[{\"type\": \"function\", \"function\": display_quiz_function_json}])\n",
        "# client.beta.assistants.update(assistant_id=\"asst_ZNz4lbi6z8bpKkE6APKdrpQ8\", instructions=\"You will be presented with a couple of dialogue between two cartoon characters.\"\n",
        "#                                                                                           \"You need to identify a few science concepts presented in the dialogue to assist the children in learning \"\n",
        "#                                                                                           \"the concepts.\")"
      ]
    },
    {
      "cell_type": "code",
      "execution_count": 13,
      "id": "37eb68da-d125-4457-8e37-03fee1f337bd",
      "metadata": {
        "id": "37eb68da-d125-4457-8e37-03fee1f337bd"
      },
      "outputs": [],
      "source": [
        "assistant = GPTAssistant(client, assistant_id=\"asst_ZNz4lbi6z8bpKkE6APKdrpQ8\")"
      ]
    },
    {
      "cell_type": "code",
      "execution_count": 14,
      "id": "c804e77a-5ea5-4ed2-b872-9ea97a928cdc",
      "metadata": {
        "colab": {
          "base_uri": "https://localhost:8080/"
        },
        "id": "c804e77a-5ea5-4ed2-b872-9ea97a928cdc",
        "outputId": "6e29acfa-23b2-4698-f4ab-28aa11ca6a62"
      },
      "outputs": [
        {
          "output_type": "stream",
          "name": "stdout",
          "text": [
            "asst_ZNz4lbi6z8bpKkE6APKdrpQ8\n",
            "thread_J0pDBtBzaQViPhUUvkxN90K5\n",
            "[]\n"
          ]
        }
      ],
      "source": [
        "print(assistant.assistant.id)\n",
        "print(assistant.thread.id)\n",
        "print(assistant.get_all_messages())"
      ]
    },
    {
      "cell_type": "markdown",
      "id": "a660a6f6-8bb1-4b9b-b7a2-d374ad598969",
      "metadata": {
        "id": "a660a6f6-8bb1-4b9b-b7a2-d374ad598969"
      },
      "source": [
        "## Get dialogue data from xlsx file"
      ]
    },
    {
      "cell_type": "code",
      "execution_count": 17,
      "id": "3d2fdd4f-43a6-47ae-b58b-24aee7c75f00",
      "metadata": {
        "id": "3d2fdd4f-43a6-47ae-b58b-24aee7c75f00"
      },
      "outputs": [],
      "source": [
        "dialogue_file_path = \"transcripts/town_picnic_base.xlsx\"\n",
        "df = pd.read_excel(dialogue_file_path)"
      ]
    },
    {
      "cell_type": "code",
      "execution_count": 18,
      "id": "aa5e2ef7-bc74-4f24-986b-2e41eab31b09",
      "metadata": {
        "id": "aa5e2ef7-bc74-4f24-986b-2e41eab31b09"
      },
      "outputs": [],
      "source": [
        "transcripts = df[df[\"text\"].notnull()][\"text\"].tolist()\n",
        "base_question = df[df[\"text\"].notnull()][\"base_q\"].tolist()"
      ]
    },
    {
      "cell_type": "code",
      "execution_count": 19,
      "id": "749dc156-f1f4-4e84-ad0b-a2f88b5859d3",
      "metadata": {
        "colab": {
          "base_uri": "https://localhost:8080/"
        },
        "id": "749dc156-f1f4-4e84-ad0b-a2f88b5859d3",
        "outputId": "0674ec99-a668-4d52-a290-5d28798964a0"
      },
      "outputs": [
        {
          "output_type": "stream",
          "name": "stdout",
          "text": [
            "Elinor: The Town Picnic! [Elinor hops into view from the center. She giggles as she notices a bee and runs after it to a flower] Hmm? Oooh...\n",
            "Ranger: [off-screen] C'mon, Elinor!\n",
            "Elinor: Coming, Mom! [Elinor runs to the left, where Ranger follows behind her. Elinor runs to the entrance of the picnic grounds.] I just love the Town Picnic! What should we do first, Mom?\n",
            "Ranger: I don't know, Elinor. Let's see... [gasp] Oh, we can do wood-carving with Mrs. Beaver. [Cut to Mrs. Beaver rapidly biting s...\n",
            "Base question: Did you see that!?- the bee just drank some juice, called nectar from this flower! What do you think the bee is going to make with the juice from this flower?\n"
          ]
        }
      ],
      "source": [
        "print(transcripts[0][0:500] + \"...\")\n",
        "print(\"Base question:\", base_question[0])"
      ]
    },
    {
      "cell_type": "markdown",
      "id": "4e712d98-434c-4da0-b710-461de59dcf60",
      "metadata": {
        "id": "4e712d98-434c-4da0-b710-461de59dcf60"
      },
      "source": [
        "## Main GPT dialogue loop"
      ]
    },
    {
      "cell_type": "code",
      "execution_count": 20,
      "id": "85d26eb7-f8c3-40aa-b4d4-90e2c3b1730e",
      "metadata": {
        "id": "85d26eb7-f8c3-40aa-b4d4-90e2c3b1730e"
      },
      "outputs": [],
      "source": [
        "# Can set it to run forever but currently restricting to a limited amount of step for testing\n",
        "max_step = 1\n",
        "# num_questions = 3\n",
        "step = 0\n",
        "cur_dialogue_num = 0"
      ]
    },
    {
      "cell_type": "code",
      "execution_count": 21,
      "id": "282e9e34-359e-446e-8b0a-a7c79d1c888c",
      "metadata": {
        "id": "282e9e34-359e-446e-8b0a-a7c79d1c888c"
      },
      "outputs": [],
      "source": [
        "# assistant.wait_on_run()\n",
        "# tool_calls = assistant.last_run.required_action.submit_tool_outputs.tool_calls\n",
        "# for tool_call in tool_calls:\n",
        "#     print(json.loads(tool_call.function.arguments))"
      ]
    },
    {
      "cell_type": "code",
      "execution_count": 22,
      "id": "0e00cfa5-0155-48ae-87be-479be1efc473",
      "metadata": {
        "id": "0e00cfa5-0155-48ae-87be-479be1efc473"
      },
      "outputs": [],
      "source": [
        "# assistant.resolve_run_required_action()\n",
        "# assistant.get_all_messages()"
      ]
    },
    {
      "cell_type": "markdown",
      "id": "566cf833-7fef-425f-9f91-a7bcd3e59be8",
      "metadata": {
        "id": "566cf833-7fef-425f-9f91-a7bcd3e59be8"
      },
      "source": [
        "First, the assistant is presented with the dialogue then it is asked to summarize it. Then we ask it to create a quiz of varying difficulties about the science concept presented in the dialogue"
      ]
    },
    {
      "cell_type": "code",
      "execution_count": 23,
      "id": "2f3c7001-c940-45f3-87f7-990b6dc5e535",
      "metadata": {
        "colab": {
          "base_uri": "https://localhost:8080/"
        },
        "id": "2f3c7001-c940-45f3-87f7-990b6dc5e535",
        "outputId": "3e577d22-cd0a-4972-cc86-4383bdf2f261"
      },
      "outputs": [
        {
          "output_type": "stream",
          "name": "stdout",
          "text": [
            "assistant: The dialogue revolves around Elinor and her family attending the Town Picnic. They discuss various activities to do at the picnic, such as wood-carving, hayrides, and watching Mr. Cat at the dunking booth. Elinor eventually joins her friends, Olive and Ari, in line for special ketchup. While waiting in line, they talk about the food and the anticipation of trying it. Elinor gets distracted by a bee and follows it, leading her to discover something dripping from a flower.\n",
            "\n",
            "Some science concepts presented in the dialogue include:\n",
            "1. Bee pollination and flower interaction\n",
            "2. Food anticipation and digestion\n",
            "3. Waiting in line and patience in nature\n",
            "Quiz: Science Concepts Quiz\n",
            "\n",
            "Questions: Easy: What was Ari waiting in line for at the Town Picnic?\n",
            "a) Ice cream\n",
            "b) Ketchup\n",
            "c) Soda\n",
            "d) Cotton candy\n",
            "Answer: b\n",
            "\n",
            "Questions: Medium: What did Elinor get distracted by while waiting in line with Olive and Ari?\n",
            "Answer: Bee\n",
            "\n",
            "Questions: Hard: Explain the significance of bee pollination in the context of the dialogue and its impact on flowers.\n",
            "Answer: Idk\n",
            "\n",
            "assistant: For the first question, you correctly identified that Ari was waiting in line for ketchup at the Town Picnic.\n",
            "\n",
            "For the second question, you mentioned \"Bee\" as the distraction that Elinor encountered while waiting in line with Olive and Ari. This answer is partially correct because Elinor did get distracted by a bee, but the full distraction also involved Elinor following the bee to a flower and noticing something dripping from it.\n",
            "\n",
            "For the third question, you responded with \"Idk.\" In the context of the dialogue, bees play a crucial role in pollination by transferring pollen from one flower to another, which helps in the reproduction of plants. This pollination process is essential for the production of fruits, seeds, and the overall biodiversity of plant life. The bee interaction with the flower in the dialogue showcases the natural phenomenon of pollination taking place.\n",
            "\n",
            "I hope this feedback helps you understand the science concepts related to the dialogue better!\n",
            "==============================================================================\n"
          ]
        }
      ],
      "source": [
        "while step < max_step and cur_dialogue_num < len(transcripts):\n",
        "    # Two steps: First, summarize the dialogue (for easier testing, can be omitted). Then ask the question about summarized dialogue\n",
        "    assistant.submit_message(f\"Summarize this dialogue: {transcripts[cur_dialogue_num]}.\")\n",
        "    print(assistant.get_last_response())\n",
        "    assistant.submit_message(f\"\"\"\n",
        "    Create a quiz with 3 questions to ask the child about the science concept presented in the dialogue. There should be one easy, one medium, and one hard question.\n",
        "    Then, based on their answer, identify what did the child get wrong and gave them feedback.\n",
        "    \"\"\")\n",
        "    assistant.wait_on_run()\n",
        "    if assistant.run_requires_action():\n",
        "        assistant.resolve_run_required_action()\n",
        "    print(assistant.get_last_response())\n",
        "\n",
        "    step += 1\n",
        "    cur_dialogue_num += 1\n",
        "    print(\"==============================================================================\")"
      ]
    },
    {
      "cell_type": "code",
      "execution_count": 24,
      "id": "4842ad20-8637-4954-91f2-39aeb10f0775",
      "metadata": {
        "id": "4842ad20-8637-4954-91f2-39aeb10f0775"
      },
      "outputs": [],
      "source": [
        "# for msg in assistant.get_all_messages():\n",
        "#     print(msg)"
      ]
    }
  ],
  "metadata": {
    "kernelspec": {
      "display_name": "Python 3 (ipykernel)",
      "language": "python",
      "name": "python3"
    },
    "language_info": {
      "codemirror_mode": {
        "name": "ipython",
        "version": 3
      },
      "file_extension": ".py",
      "mimetype": "text/x-python",
      "name": "python",
      "nbconvert_exporter": "python",
      "pygments_lexer": "ipython3",
      "version": "3.11.9"
    },
    "colab": {
      "provenance": []
    }
  },
  "nbformat": 4,
  "nbformat_minor": 5
}